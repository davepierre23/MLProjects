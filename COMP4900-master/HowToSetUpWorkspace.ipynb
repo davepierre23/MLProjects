{
  "nbformat": 4,
  "nbformat_minor": 0,
  "metadata": {
    "colab": {
      "name": "HowToSetUpWorkspace.ipynb",
      "provenance": [],
      "collapsed_sections": [],
      "toc_visible": true,
      "authorship_tag": "ABX9TyMPYUJGWnHxVgLOH8O1b9Vw",
      "include_colab_link": true
    },
    "kernelspec": {
      "name": "python3",
      "display_name": "Python 3"
    }
  },
  "cells": [
    {
      "cell_type": "markdown",
      "metadata": {
        "id": "view-in-github",
        "colab_type": "text"
      },
      "source": [
        "<a href=\"https://colab.research.google.com/github/cameronSlupeiks/COMP4900/blob/dave/HowToSetUpWorkspace.ipynb\" target=\"_parent\"><img src=\"https://colab.research.google.com/assets/colab-badge.svg\" alt=\"Open In Colab\"/></a>"
      ]
    },
    {
      "cell_type": "code",
      "metadata": {
        "id": "LQ0aBpUzswmx",
        "outputId": "066b20c8-8028-44ab-99dd-914eb5db4a19",
        "colab": {
          "base_uri": "https://localhost:8080/",
          "height": 156
        }
      },
      "source": [
        "#https://towardsdatascience.com/google-drive-google-colab-github-dont-just-read-do-it-5554d5824228\n",
        "# Mount Google Drive\n",
        "from google.colab import drive # import drive from google colab\n",
        "\n",
        "ROOT = \"/content/drive\"     # default location for the drive\n",
        "print(ROOT)                 # print content of ROOT (Optional)\n",
        "\n",
        "drive.mount(ROOT)           # we mount the google drive at /content/drive\n",
        "\n",
        "# Clone github repository setup\n",
        "# import join used to join ROOT path and MY_GOOGLE_DRIVE_PATH\n",
        "from os.path import join  \n",
        "\n",
        "# path to your project on Google Drive\n",
        "MY_GOOGLE_DRIVE_PATH = '/My Drive' \n",
        "# replace with your Github username \n",
        "GIT_USERNAME = \"DavePierre101014409\" \n",
        "# definitely replace with your\n",
        "GIT_TOKEN = \"7356f4dd745f7c34d55b6fb79ffc5f1e4a7c72fa\"  \n",
        "# Replace with your github repository in this case we want \n",
        "# to clone deep-learning-v2-pytorch repository\n",
        "GIT_REPOSITORY = \"COMP4900\" \n",
        "\n",
        "PROJECT_PATH = join(ROOT, MY_GOOGLE_DRIVE_PATH)\n",
        "\n",
        "# It's good to print out the value if you are not sure \n",
        "print(\"PROJECT_PATH: \", PROJECT_PATH)   \n",
        "\n",
        "# In case we haven't created the folder already; we will create a folder in the project path \n",
        "!mkdir \"{PROJECT_PATH}\"    \n",
        "\n",
        "#GIT_PATH = \"https://{GIT_TOKEN}@github.com/{GIT_USERNAME}/{GIT_REPOSITORY}.git\" this return 400 Bad Request for me\n",
        "GIT_PATH = \"https://\" + GIT_TOKEN + \"@github.com/\" + \"cameronSlupeiks/COMP4900.git\"\n",
        "print(\"GIT_PATH: \", GIT_PATH)\n",
        "\n",
        "\n",
        "\n",
        "%cd \"{PROJECT_PATH}\"    # Change directory to the location defined in project_path\n",
        "!git clone \"{GIT_PATH}\" # clone the github repository"
      ],
      "execution_count": null,
      "outputs": [
        {
          "output_type": "stream",
          "text": [
            "/content/drive\n",
            "Drive already mounted at /content/drive; to attempt to forcibly remount, call drive.mount(\"/content/drive\", force_remount=True).\n",
            "PROJECT_PATH:  /My Drive\n",
            "GIT_PATH:  https://7356f4dd745f7c34d55b6fb79ffc5f1e4a7c72fa@github.com/cameronSlupeiks/COMP4900.git\n",
            "[Errno 2] No such file or directory: '/My Drive # Change directory to the location defined in project_path'\n",
            "/content/COMP4900\n",
            "fatal: destination path 'COMP4900' already exists and is not an empty directory.\n"
          ],
          "name": "stdout"
        }
      ]
    },
    {
      "cell_type": "code",
      "metadata": {
        "id": "Wha6PVuFwj2X",
        "outputId": "252bf4c2-e2e9-4c54-9751-e4209aa86a7f",
        "colab": {
          "base_uri": "https://localhost:8080/",
          "height": 513
        }
      },
      "source": [
        "#how to add code and push\n",
        "\n",
        "%pwd\n",
        "!git checkout dave\n",
        "!git add .\n",
        "!git commit -m \"added file\"\n",
        "!git config --global user.email \"davepierre@cmail.carleton.ca\"\n",
        "!git config --global user.name \"Dave Pierre\"\n",
        "!git push origin dave"
      ],
      "execution_count": null,
      "outputs": [
        {
          "output_type": "stream",
          "text": [
            "Already on 'dave'\n",
            "Your branch is ahead of 'origin/dave' by 2 commits.\n",
            "  (use \"git push\" to publish your local commits)\n",
            "warning: adding embedded git repository: COMP4900\n",
            "hint: You've added another git repository inside your current repository.\n",
            "hint: Clones of the outer repository will not contain the contents of\n",
            "hint: the embedded repository and will not know how to obtain it.\n",
            "hint: If you meant to add a submodule, use:\n",
            "hint: \n",
            "hint: \tgit submodule add <url> COMP4900\n",
            "hint: \n",
            "hint: If you added this path by mistake, you can remove it from the\n",
            "hint: index with:\n",
            "hint: \n",
            "hint: \tgit rm --cached COMP4900\n",
            "hint: \n",
            "hint: See \"git help submodule\" for more information.\n",
            "[dave 7fdd631] added file\n",
            " 1 file changed, 1 insertion(+)\n",
            " create mode 160000 COMP4900\n",
            "To https://github.com/cameronSlupeiks/COMP4900.git\n",
            " ! [rejected]        dave -> dave (fetch first)\n",
            "error: failed to push some refs to 'https://7356f4dd745f7c34d55b6fb79ffc5f1e4a7c72fa@github.com/cameronSlupeiks/COMP4900.git'\n",
            "hint: Updates were rejected because the remote contains work that you do\n",
            "hint: not have locally. This is usually caused by another repository pushing\n",
            "hint: to the same ref. You may want to first integrate the remote changes\n",
            "hint: (e.g., 'git pull ...') before pushing again.\n",
            "hint: See the 'Note about fast-forwards' in 'git push --help' for details.\n"
          ],
          "name": "stdout"
        }
      ]
    },
    {
      "cell_type": "code",
      "metadata": {
        "id": "Tf9KcBgX6FQb",
        "outputId": "2a3de28e-ae49-4246-cfd2-46f21633bbcf",
        "colab": {
          "base_uri": "https://localhost:8080/",
          "height": 306
        }
      },
      "source": [
        "#how to add file and remove \n",
        "!git add .\n",
        "!git commit -m \"remove a file \"\n",
        "!git config --global user.email \"davepierre@cmail.carleton.ca\"\n",
        "!git config --global user.name \"Dave Pierre\"\n",
        "!git push --set-upstream origin dave\n",
        "!git pull origin dave\n",
        "!git push origin dave"
      ],
      "execution_count": 66,
      "outputs": [
        {
          "output_type": "stream",
          "text": [
            "Data  README.md  test.txt\n",
            "/content/COMP4900/A1\n",
            "Already on 'master'\n",
            "Your branch is ahead of 'origin/master' by 1 commit.\n",
            "  (use \"git push\" to publish your local commits)\n",
            "On branch master\n",
            "Your branch is ahead of 'origin/master' by 1 commit.\n",
            "  (use \"git push\" to publish your local commits)\n",
            "\n",
            "nothing to commit, working tree clean\n",
            "Counting objects: 4, done.\n",
            "Delta compression using up to 2 threads.\n",
            "Compressing objects: 100% (3/3), done.\n",
            "Writing objects: 100% (4/4), 456 bytes | 456.00 KiB/s, done.\n",
            "Total 4 (delta 0), reused 0 (delta 0)\n",
            "To https://github.com/cameronSlupeiks/COMP4900.git\n",
            "   020802f..0feceb4  master -> master\n"
          ],
          "name": "stdout"
        }
      ]
    }
  ]
}