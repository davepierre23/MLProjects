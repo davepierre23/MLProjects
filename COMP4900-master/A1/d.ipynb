{
  "nbformat": 4,
  "nbformat_minor": 0,
  "metadata": {
    "colab": {
      "name": "Tut3_TextClassification.ipynb",
      "provenance": [],
      "collapsed_sections": []
    },
    "kernelspec": {
      "name": "python3",
      "display_name": "Python 3"
    }
  },
  "cells": [
    {
      "cell_type": "markdown",
      "metadata": {
        "id": "nYJOtPvBh7AN"
      },
      "source": [
        "# COMP 4900B Intorduction to Machine Learning\n",
        "# Text Classification"
      ]
    },
    {
      "cell_type": "code",
      "metadata": {
        "id": "klEFnYucy5cD"
      },
      "source": [
        "# CTRL + SPACE\n",
        "from sklearn.datasets import fetch_20newsgroups\n",
        "newsgroups = fetch_20newsgroups(subset='all')"
      ],
      "execution_count": 4,
      "outputs": []
    },
    {
      "cell_type": "code",
      "metadata": {
        "id": "_icjdV9Sy5cH",
        "outputId": "29ad6681-0cd3-4651-c113-9ca06c0ca780",
        "colab": {
          "base_uri": "https://localhost:8080/",
          "height": 211
        }
      },
      "source": [
        "# This is how the features look like\n",
        "list(newsgroups.data)[:10]"
      ],
      "execution_count": 5,
      "outputs": [
        {
          "output_type": "execute_result",
          "data": {
            "text/plain": [
              "[\"From: Mamatha Devineni Ratnam <mr47+@andrew.cmu.edu>\\nSubject: Pens fans reactions\\nOrganization: Post Office, Carnegie Mellon, Pittsburgh, PA\\nLines: 12\\nNNTP-Posting-Host: po4.andrew.cmu.edu\\n\\n\\n\\nI am sure some bashers of Pens fans are pretty confused about the lack\\nof any kind of posts about the recent Pens massacre of the Devils. Actually,\\nI am  bit puzzled too and a bit relieved. However, I am going to put an end\\nto non-PIttsburghers' relief with a bit of praise for the Pens. Man, they\\nare killing those Devils worse than I thought. Jagr just showed you why\\nhe is much better than his regular season stats. He is also a lot\\nfo fun to watch in the playoffs. Bowman should let JAgr have a lot of\\nfun in the next couple of games since the Pens are going to beat the pulp out of Jersey anyway. I was very disappointed not to see the Islanders lose the final\\nregular season game.          PENS RULE!!!\\n\\n\",\n",
              " 'From: mblawson@midway.ecn.uoknor.edu (Matthew B Lawson)\\nSubject: Which high-performance VLB video card?\\nSummary: Seek recommendations for VLB video card\\nNntp-Posting-Host: midway.ecn.uoknor.edu\\nOrganization: Engineering Computer Network, University of Oklahoma, Norman, OK, USA\\nKeywords: orchid, stealth, vlb\\nLines: 21\\n\\n  My brother is in the market for a high-performance video card that supports\\nVESA local bus with 1-2MB RAM.  Does anyone have suggestions/ideas on:\\n\\n  - Diamond Stealth Pro Local Bus\\n\\n  - Orchid Farenheit 1280\\n\\n  - ATI Graphics Ultra Pro\\n\\n  - Any other high-performance VLB card\\n\\n\\nPlease post or email.  Thank you!\\n\\n  - Matt\\n\\n-- \\n    |  Matthew B. Lawson <------------> (mblawson@essex.ecn.uoknor.edu)  |   \\n  --+-- \"Now I, Nebuchadnezzar, praise and exalt and glorify the King  --+-- \\n    |   of heaven, because everything he does is right and all his ways  |   \\n    |   are just.\" - Nebuchadnezzar, king of Babylon, 562 B.C.           |   \\n',\n",
              " 'From: hilmi-er@dsv.su.se (Hilmi Eren)\\nSubject: Re: ARMENIA SAYS IT COULD SHOOT DOWN TURKISH PLANES (Henrik)\\nLines: 95\\nNntp-Posting-Host: viktoria.dsv.su.se\\nReply-To: hilmi-er@dsv.su.se (Hilmi Eren)\\nOrganization: Dept. of Computer and Systems Sciences, Stockholm University\\n\\n\\n\\n\\n|>The student of \"regional killings\" alias Davidian (not the Davidian religios sect) writes:\\n\\n\\n|>Greater Armenia would stretch from Karabakh, to the Black Sea, to the\\n|>Mediterranean, so if you use the term \"Greater Armenia\" use it with care.\\n\\n\\n\\tFinally you said what you dream about. Mediterranean???? That was new....\\n\\tThe area will be \"greater\" after some years, like your \"holocaust\" numbers......\\n\\n\\n\\n\\n|>It has always been up to the Azeris to end their announced winning of Karabakh \\n|>by removing the Armenians! When the president of Azerbaijan, Elchibey, came to \\n|>power last year, he announced he would be be \"swimming in Lake Sevan [in \\n|>Armeniaxn] by July\".\\n\\t\\t*****\\n\\tIs\\'t July in USA now????? Here in Sweden it\\'s April and still cold.\\n\\tOr have you changed your calendar???\\n\\n\\n|>Well, he was wrong! If Elchibey is going to shell the \\n|>Armenians of Karabakh from Aghdam, his people will pay the price! If Elchibey \\n\\t\\t\\t\\t\\t\\t    ****************\\n|>is going to shell Karabakh from Fizuli his people will pay the price! If \\n\\t\\t\\t\\t\\t\\t    ******************\\n|>Elchibey thinks he can get away with bombing Armenia from the hills of \\n|>Kelbajar, his people will pay the price. \\n\\t\\t\\t    ***************\\n\\n\\n\\tNOTHING OF THE MENTIONED IS TRUE, BUT LET SAY IT\\'s TRUE.\\n\\t\\n\\tSHALL THE AZERI WOMEN AND CHILDREN GOING TO PAY THE PRICE WITH\\n\\t\\t\\t\\t\\t\\t    **************\\n\\tBEING RAPED, KILLED AND TORTURED BY THE ARMENIANS??????????\\n\\t\\n\\tHAVE YOU HEARDED SOMETHING CALLED: \"GENEVA CONVENTION\"???????\\n\\tYOU FACIST!!!!!\\n\\n\\n\\n\\tOhhh i forgot, this is how Armenians fight, nobody has forgot\\n\\tyou killings, rapings and torture against the Kurds and Turks once\\n\\tupon a time!\\n      \\n       \\n\\n|>And anyway, this \"60 \\n|>Kurd refugee\" story, as have other stories, are simple fabrications sourced in \\n|>Baku, modified in Ankara. Other examples of this are Armenia has no border \\n|>with Iran, and the ridiculous story of the \"intercepting\" of Armenian military \\n|>conversations as appeared in the New York Times supposedly translated by \\n|>somebody unknown, from Armenian into Azeri Turkish, submitted by an unnamed \\n|>\"special correspondent\" to the NY Times from Baku. Real accurate!\\n\\nOhhhh so swedish RedCross workers do lie they too? What ever you say\\n\"regional killer\", if you don\\'t like the person then shoot him that\\'s your policy.....l\\n\\n\\n|>[HE]\\tSearch Turkish planes? You don\\'t know what you are talking about.<-------\\n|>[HE]\\tsince it\\'s content is announced to be weapons? \\t\\t\\t\\ti\\t \\n\\t\\t\\t\\t\\t\\t\\t\\t\\t\\ti\\n|>Well, big mouth Ozal said military weapons are being provided to Azerbaijan\\ti\\n|>from Turkey, yet Demirel and others say no. No wonder you are so confused!\\ti\\n\\t\\t\\t\\t\\t\\t\\t\\t\\t\\ti\\n\\t\\t\\t\\t\\t\\t\\t\\t\\t\\ti\\n\\tConfused?????\\t\\t\\t\\t\\t\\t\\t\\ti\\n\\tYou facist when you delete text don\\'t change it, i wrote:\\t\\ti\\n\\t\\t\\t\\t\\t\\t\\t\\t\\t\\ti\\n        Search Turkish planes? You don\\'t know what you are talking about.\\ti\\n        Turkey\\'s government has announced that it\\'s giving weapons  <-----------i\\n        to Azerbadjan since Armenia started to attack Azerbadjan\\t\\t\\n        it self, not the Karabag province. So why search a plane for weapons\\t\\n        since it\\'s content is announced to be weapons?   \\n\\n\\tIf there is one that\\'s confused then that\\'s you! We have the right (and we do)\\n\\tto give weapons to the Azeris, since Armenians started the fight in Azerbadjan!\\n \\n\\n|>You are correct, all Turkish planes should be simply shot down! Nice, slow\\n|>moving air transports!\\n\\n\\tShoot down with what? Armenian bread and butter? Or the arms and personel \\n\\tof the Russian army?\\n\\n\\n\\n\\nHilmi Eren\\nStockholm University\\n',\n",
              " 'From: guyd@austin.ibm.com (Guy Dawson)\\nSubject: Re: IDE vs SCSI, DMA and detach\\nOriginator: guyd@pal500.austin.ibm.com\\nOrganization: IBM Austin\\nLines: 60\\n\\n\\nIn article <1993Apr19.034517.12820@julian.uwo.ca>, wlsmith@valve.heart.rri.uwo.ca (Wayne Smith) writes:\\n> In article <RICHK.93Apr15075248@gozer.grebyn.com> richk@grebyn.com (Richard Krehbiel) writes:\\n> >>     Can anyone explain in fairly simple terms why, if I get OS/2, I might \\n> >>   need an SCSI controler rather than an IDE.  Will performance suffer that\\n> >>   much?  For a 200MB or so drive?  If I don\\'t have a tape drive or CD-ROM?\\n> >>   Any help would be appreciated.\\n> \\n> >So, when you\\'ve got multi-tasking, you want to increase performance by\\n> >increasing the amount of overlapping you do.\\n> >\\n> >One way is with DMA or bus mastering.  Either of these make it\\n> >possible for I/O devices to move their data into and out of memory\\n> >without interrupting the CPU.  The alternative is for the CPU to move\\n> >the data.  There are several SCSI interface cards that allow DMA and\\n> >bus mastering.\\n>  ^^^^^^^^^^^^\\n> How do you do bus-mastering on the ISA bus?\\n> \\n> >IDE, however, is defined by the standard AT interface\\n> >created for the IBM PC AT, which requires the CPU to move all the data\\n> >bytes, with no DMA.\\n> \\n> If we\\'re talking ISA (AT) bus here, then you can only have 1 DMA channel\\n> active at any one time, presumably transferring data from a single device.\\n> So even though you can have at least 7 devices on a SCSI bus, explain how\\n> all 7 of those devices can to DMA transfers through a single SCSI card\\n> to the ISA-AT bus at the same time.\\n\\nThink!\\n\\nIt\\'s the SCSI card doing the DMA transfers NOT the disks...\\n\\nThe SCSI card can do DMA transfers containing data from any of the SCSI devices\\nit is attached when it wants to.\\n\\nAn important feature of SCSI is the ability to detach a device. This frees the\\nSCSI bus for other devices. This is typically used in a multi-tasking OS to\\nstart transfers on several devices. While each device is seeking the data the\\nbus is free for other commands and data transfers. When the devices are\\nready to transfer the data they can aquire the bus and send the data.\\n\\nOn an IDE bus when you start a transfer the bus is busy until the disk has seeked\\nthe data and transfered it. This is typically a 10-20ms second lock out for other\\nprocesses wanting the bus irrespective of transfer time.\\n\\n> \\n> Also, I\\'m still trying to track down a copy of IBM\\'s AT reference book,\\n> but from their PC technical manual (page 2-93):\\n> \\n> \"The (FDD) adapter is buffered on the I.O bus and uses the System Board\\n> direct memory access (DMA) for record data transfers.\"\\n> I expect to see something similar for the PC-AT HDD adapter.  \\n> So the lowly low-density original PC FDD card used DMA and the PC-AT\\n> HDD controller doesn\\'t!?!?  That makes real sense.\\n-- \\n-- -----------------------------------------------------------------------------\\nGuy Dawson - Hoskyns Group Plc.\\n        guyd@hoskyns.co.uk  Tel Hoskyns UK     -  71 251 2128\\n        guyd@austin.ibm.com Tel IBM Austin USA - 512 838 3377\\n',\n",
              " 'From: Alexander Samuel McDiarmid <am2o+@andrew.cmu.edu>\\nSubject: driver ??\\nOrganization: Sophomore, Mechanical Engineering, Carnegie Mellon, Pittsburgh, PA\\nLines: 15\\nNNTP-Posting-Host: po4.andrew.cmu.edu\\n\\n \\n1)    I have an old Jasmine drive which I cannot use with my new system.\\n My understanding is that I have to upsate the driver with a more modern\\none in order to gain compatability with system 7.0.1.  does anyone know\\nof an inexpensive program to do this?  ( I have seen formatters for <$20\\nbuit have no idea if they will work)\\n \\n2)     I have another ancient device, this one a tape drive for which\\nthe back utility freezes the system if I try to use it.  THe drive is a\\njasmine direct tape (bought used for $150 w/ 6 tapes, techmar\\nmechanism).  Essentially I have the same question as above, anyone know\\nof an inexpensive beckup utility I can use with system 7.0.1\\n \\nall help and advice appriciated.\\n\\n',\n",
              " 'From: tell@cs.unc.edu (Stephen Tell)\\nSubject: Re: subliminal message flashing on TV\\nOrganization: The University of North Carolina at Chapel Hill\\nLines: 25\\nNNTP-Posting-Host: rukbat.cs.unc.edu\\n\\nIn article <7480237@hpfcso.FC.HP.COM> myers@hpfcso.FC.HP.COM (Bob Myers) writes:\\n>> Hi.  I was doing research on subliminal suggestion for a psychology\\n>> paper, and I read that one researcher flashed hidden messages on the\\n>> TV screen at 1/200ths of a second.  Is that possible?\\n\\n> Might\\n>even be a vector (\"strokewriter\") display, in which case the lower limit\\n>on image time is anyone\\'s guess (and is probably phosphor-persistence limited).\\n\\nBack in high school I worked as a lab assistant for a bunch of experimental\\npsychologists at Bell Labs.  When they were doing visual perception and\\nmemory experiments, they used vector-type displays, with 1-millisecond\\nrefresh rates common.\\n\\nSo your case of 1/200th sec is quite practical, and the experimenters were\\nprobably sure that it was 5 milliseconds, not 4 or 6 either.\\n\\n>Bob Myers  KC0EW >myers@fc.hp.com \\n\\nSteve\\n-- \\nSteve Tell       tell@cs.unc.edu H: 919 968 1792  | #5L Estes Park apts\\nUNC Chapel Hill Computer Science W: 919 962 1845  | Carrboro NC 27510\\nEngineering is a _lot_ like art:  Some circuits are like lyric poems, some\\nare like army manuals, and some are like The Hitchhiker\\'s Guide to the Galaxy..\\n',\n",
              " 'From: lpa8921@tamuts.tamu.edu (Louis Paul Adams)\\nSubject: Re: Number for Applied Engineering\\nOrganization: Texas A&M University, College Station\\nLines: 9\\nNNTP-Posting-Host: tamuts.tamu.edu\\n\\n>Anyone have a phone number for Applied Engineering so I can give them\\n>a call?\\n\\n\\nAE is in Dallas...try 214/241-6060 or 214/241-0055.  Tech support may be on\\ntheir own line, but one of these should get you started.\\n\\nGood luck!\\n\\n',\n",
              " \"From: dchhabra@stpl.ists.ca (Deepak Chhabra)\\nSubject: Re: Atlanta Hockey Hell!!\\nNntp-Posting-Host: stpl.ists.ca\\nOrganization: Solar Terresterial Physics Laboratory, ISTS\\nLines: 24\\n\\nIn article <0foVj7i00WB4MIUmht@andrew.cmu.edu> Mamatha Devineni Ratnam <mr47+@andrew.cmu.edu> writes:\\n>\\n>Well, it's not that bad. But I am still pretty pissed of at the\\n>local ABC coverage. They cut off the first half hour of coverage by playing\\n\\n[stuff deleted]\\n\\nOk, here's the solution to your problem.  Move to Canada.  Yesterday I was able\\nto watch FOUR games...the NJ-PITT at 1:00 on ABC, LA-CAL at 3:00 (CBC), \\nBUFF-BOS at 7:00 (TSN and FOX), and MON-QUE at 7:30 (CBC).  I think that if\\neach series goes its max I could be watching hockey playoffs for 40-some odd\\nconsecutive nights (I haven't counted so that's a pure guess).\\n\\nI have two tv's in my house, and I set them up side-by-side to watch MON-QUE\\nand keep an eye on BOS-BUFF at the same time.  I did the same for the two\\nafternoon games.\\n\\nBtw, those ABC commentaters were great!  I was quite impressed; they seemed\\nto know that their audience wasn't likely to be well-schooled in hockey lore\\nand they did an excellent job.  They were quite impartial also, IMO.\\n\\n\\n\\ndchhabra@stpl.ists.ca (not suffering from a shortage of hockey here)\\n\",\n",
              " \"From: dchhabra@stpl.ists.ca (Deepak Chhabra)\\nSubject: Re: Goalie masks\\nNntp-Posting-Host: stpl.ists.ca\\nOrganization: Solar Terresterial Physics Laboratory, ISTS\\nLines: 15\\n\\nIn article <C5sqz3.EG8@acsu.buffalo.edu> hammerl@acsu.buffalo.edu (Valerie S. Hammerl) writes:\\n\\n>>[...] and I'll give Fuhr's new one an honourable mention, although I haven't\\n>>seen it closely yet (it looked good from a distance!).  \\n\\n>This is the new Buffalo one, the second since he's been with the\\n>Sabres?  I recall a price tag of over $700 just for the paint job on\\n>that mask, and a total price of almost $1500.  Ouch.  \\n\\nYeah, it's the second one.  And I believe that price too.  I've been trying\\nto get a good look at it on the Bruin-Sabre telecasts, and wow! does it ever\\nlook good.  Whoever did that paint job knew what they were doing.  And given\\nFuhr's play since he got it, I bet the Bruins are wishing he didn't have it:)\\n\\n--\\n\",\n",
              " 'From: arromdee@jyusenkyou.cs.jhu.edu (Ken Arromdee)\\nSubject: Re: Christians above the Law? was Clarification of pe\\nOrganization: Johns Hopkins University CS Dept.\\nLines: 13\\n\\nIn article <C61Kow.E4z@mailer.cc.fsu.edu> dlecoint@garnet.acns.fsu.edu (Darius_Lecointe) writes:\\n>>Jesus was a JEW, not a Christian.\\n\\nIf a Christian means someone who believes in the divinity of Jesus, it is safe\\nto say that Jesus was a Christian.\\n--\\n\"On the first day after Christmas my truelove served to me...  Leftover Turkey!\\nOn the second day after Christmas my truelove served to me...  Turkey Casserole\\n    that she made from Leftover Turkey.\\n[days 3-4 deleted] ...  Flaming Turkey Wings! ...\\n   -- Pizza Hut commercial (and M*tlu/A*gic bait)\\n\\nKen Arromdee (arromdee@jyusenkyou.cs.jhu.edu)\\n']"
            ]
          },
          "metadata": {
            "tags": []
          },
          "execution_count": 5
        }
      ]
    },
    {
      "cell_type": "code",
      "metadata": {
        "id": "mwFWoeEjl2Hq",
        "outputId": "19cb464d-5d02-409d-fcfb-886d4902f142",
        "colab": {
          "base_uri": "https://localhost:8080/",
          "height": 34
        }
      },
      "source": [
        "list(newsgroups.target)[:10]"
      ],
      "execution_count": 6,
      "outputs": [
        {
          "output_type": "execute_result",
          "data": {
            "text/plain": [
              "[10, 3, 17, 3, 4, 12, 4, 10, 10, 19]"
            ]
          },
          "metadata": {
            "tags": []
          },
          "execution_count": 6
        }
      ]
    },
    {
      "cell_type": "code",
      "metadata": {
        "id": "kz27FYD_y5cK",
        "outputId": "f48775c0-b881-4a27-8cf6-bf4b5165c20b",
        "colab": {
          "base_uri": "https://localhost:8080/",
          "height": 364
        }
      },
      "source": [
        "# This is how the target looks like\n",
        "newsgroups.target_names"
      ],
      "execution_count": 7,
      "outputs": [
        {
          "output_type": "execute_result",
          "data": {
            "text/plain": [
              "['alt.atheism',\n",
              " 'comp.graphics',\n",
              " 'comp.os.ms-windows.misc',\n",
              " 'comp.sys.ibm.pc.hardware',\n",
              " 'comp.sys.mac.hardware',\n",
              " 'comp.windows.x',\n",
              " 'misc.forsale',\n",
              " 'rec.autos',\n",
              " 'rec.motorcycles',\n",
              " 'rec.sport.baseball',\n",
              " 'rec.sport.hockey',\n",
              " 'sci.crypt',\n",
              " 'sci.electronics',\n",
              " 'sci.med',\n",
              " 'sci.space',\n",
              " 'soc.religion.christian',\n",
              " 'talk.politics.guns',\n",
              " 'talk.politics.mideast',\n",
              " 'talk.politics.misc',\n",
              " 'talk.religion.misc']"
            ]
          },
          "metadata": {
            "tags": []
          },
          "execution_count": 7
        }
      ]
    },
    {
      "cell_type": "code",
      "metadata": {
        "id": "vX07SHuvy5cP",
        "outputId": "23a3b604-6bd8-4c57-87a5-e1cce05ed4e0",
        "colab": {
          "base_uri": "https://localhost:8080/",
          "height": 69
        }
      },
      "source": [
        "## Simple way to do split would be to use scikit-learn's `train_test_split` method\n",
        "from sklearn.model_selection import train_test_split\n",
        "X_train, X_test, y_train, y_test = train_test_split(newsgroups.data, newsgroups.target, train_size=0.8, test_size=0.2)\n",
        "print(len(newsgroups.data))\n",
        "print(len(X_train))\n",
        "print(len(X_train)/len(newsgroups.data))\n",
        "\n"
      ],
      "execution_count": 8,
      "outputs": [
        {
          "output_type": "stream",
          "text": [
            "18846\n",
            "15076\n",
            "0.7999575506738831\n"
          ],
          "name": "stdout"
        }
      ]
    },
    {
      "cell_type": "code",
      "metadata": {
        "id": "ppUUSZ-My5cS",
        "outputId": "9f132b02-bc7a-44fa-ea0e-5735d7956b41",
        "colab": {
          "base_uri": "https://localhost:8080/",
          "height": 364
        }
      },
      "source": [
        "# the first article of list! (randomized)\n",
        "print(X_train[0])"
      ],
      "execution_count": 9,
      "outputs": [
        {
          "output_type": "stream",
          "text": [
            "From: gthomas@fraser.sfu.ca (Guy Thomas)\n",
            "Subject: Re: What is going on?...\n",
            "Organization: Simon Fraser University, Burnaby, B.C., Canada\n",
            "Distribution: inet\n",
            "Lines: 13\n",
            "\n",
            "zrepachol@cc.curtin.edu.au (Paul Repacholi) writes:\n",
            "\n",
            ">In article <1993Apr16.055100.1@cc.curtin.edu.au>, zrepachol@cc.curtin.edu.au (Paul Repacholi) writes:\n",
            ">...\n",
            ">> If you can't be bothered reading, get the video \"Manufacturing Consent\".\n",
            ">> \n",
            "\n",
            ">In reply to mail queries; I don't know if a video is available yet. I asked\n",
            ">about a month ao and was told RSN.\n",
            "\n",
            "Yes it is. From the National Film Board of Canada.\n",
            "Guy\n",
            "gthomas@native-ed.bc.ca\n",
            "\n"
          ],
          "name": "stdout"
        }
      ]
    },
    {
      "cell_type": "code",
      "metadata": {
        "id": "MAGVh1aeoTbf",
        "outputId": "4a6c1acb-a32f-4396-a9bf-4509885b636d",
        "colab": {
          "base_uri": "https://localhost:8080/",
          "height": 52
        }
      },
      "source": [
        "print(y_train[0])\n",
        "print(newsgroups.target_names[y_train[0]])"
      ],
      "execution_count": 10,
      "outputs": [
        {
          "output_type": "stream",
          "text": [
            "11\n",
            "sci.crypt\n"
          ],
          "name": "stdout"
        }
      ]
    },
    {
      "cell_type": "code",
      "metadata": {
        "id": "0opTm5sxy5cd",
        "outputId": "bcf8d67a-2634-4b74-9ffe-5f8ee5d43d0e",
        "colab": {
          "base_uri": "https://localhost:8080/",
          "height": 121
        }
      },
      "source": [
        "from sklearn.feature_extraction.text import CountVectorizer\n",
        "vectorizer = CountVectorizer()\n",
        "print(vectorizer)"
      ],
      "execution_count": 11,
      "outputs": [
        {
          "output_type": "stream",
          "text": [
            "CountVectorizer(analyzer='word', binary=False, decode_error='strict',\n",
            "                dtype=<class 'numpy.int64'>, encoding='utf-8', input='content',\n",
            "                lowercase=True, max_df=1.0, max_features=None, min_df=1,\n",
            "                ngram_range=(1, 1), preprocessor=None, stop_words=None,\n",
            "                strip_accents=None, token_pattern='(?u)\\\\b\\\\w\\\\w+\\\\b',\n",
            "                tokenizer=None, vocabulary=None)\n"
          ],
          "name": "stdout"
        }
      ]
    },
    {
      "cell_type": "code",
      "metadata": {
        "id": "j2p4yikZy5cg"
      },
      "source": [
        "vectors_train = vectorizer.fit_transform(X_train)\n",
        "\n",
        "# and we do the same for test data. remember to use the same vectorizer, only transform (why?)\n",
        "vectors_test = vectorizer.transform(X_test)"
      ],
      "execution_count": 12,
      "outputs": []
    },
    {
      "cell_type": "code",
      "metadata": {
        "id": "meXvyDGZy5ck",
        "outputId": "38e7fef1-ac0b-4c6d-8fb3-fdf154072069",
        "colab": {
          "base_uri": "https://localhost:8080/",
          "height": 86
        }
      },
      "source": [
        "# what is the second number?\n",
        "print(vectors_train.shape)\n",
        "\n",
        "print( vectorizer.vocabulary_[\"is\"] )\n",
        "print( vectorizer.vocabulary_[\"isnt\"] )\n",
        "\n",
        "print(vectors_train[0, 81545])\n",
        "\n",
        "a1 = \"this is a great dish\"\n",
        "a2 = \"\"\"Pizza (Italian: [ˈpittsa], Neapolitan: [ˈpittsə]) is a savory dish of Italian origin consisting of a usually round, flattened base of leavened wheat-based dough topped with tomatoes, cheese, and often various other ingredients (such as anchovies, mushrooms, onions, olives, pineapple, meat, etc.), which is then baked at a high temperature, traditionally in a wood-fired oven.[1] A small pizza is sometimes called a pizzetta. A person who makes pizza is known as a pizzaiolo.\n",
        "\n",
        "In Italy, pizza served in formal settings, such as at a restaurant, is presented unsliced, and is eaten with the use of a knife and fork.[2][3] In casual settings, however, it is cut into wedges to be eaten while held in the hand.\n",
        "\n",
        "The term pizza was first recorded in the 10th century in a Latin manuscript from the Southern Italian town of Gaeta in Lazio, on the border with Campania.[4] Modern pizza was invented in Naples, and the dish and its variants have since become popular in many countries.[5] It has become one of the most popular foods in the world and a common fast food item in Europe and North America, available at pizzerias (restaurants specializing in pizza), restaurants offering Mediterranean cuisine, and via pizza delivery.[5][6] Many companies sell ready-baked frozen pizzas to be reheated in an ordinary home oven.\n",
        "\n",
        "The Associazione Verace Pizza Napoletana (lit. True Neapolitan Pizza Association) is a non-profit organization founded in 1984 with headquarters in Naples that aims to promote traditional Neapolitan pizza.[7] In 2009, upon Italy's request, Neapolitan pizza was registered with the European Union as a Traditional Speciality Guaranteed dish,[8][9] and in 2017 the art of its making was included on UNESCO's list of intangible cultural heritage.[10]\n",
        "Contents\n",
        "\n",
        "    1 Etymology\n",
        "    2 History\n",
        "    3 Preparation\n",
        "        3.1 Cooking\n",
        "        3.2 Crust\n",
        "        3.3 Cheese\n",
        "    4 Varieties\n",
        "        4.1 Italy\n",
        "        4.2 United States\n",
        "        4.3 Argentina\n",
        "    5 Records\n",
        "    6 Health concerns\n",
        "    7 National Pizza Month\n",
        "    8 Similar dishes\n",
        "    9 Gallery\n",
        "    10 See also\n",
        "    11 References\n",
        "    12 Further reading\n",
        "\n",
        "Etymology\n",
        "Pizza with cheese and toppings, cut into slices\n",
        "\n",
        "The word \"pizza\" first appeared in a Latin text from the central Italian town of Gaeta, then still part of the Byzantine Empire, in 997 AD; the text states that a tenant of certain property is to give the bishop of Gaeta duodecim pizze (\"twelve pizzas\") every Christmas Day, and another twelve every Easter Sunday.[4][11]\n",
        "\n",
        "Suggested etymologies include:\n",
        "\n",
        "    Byzantine Greek and Late Latin pitta > pizza, cf. Modern Greek pitta bread and the Apulia and Calabrian (then Byzantine Italy) pitta,[12] a round flat bread baked in the oven at high temperature sometimes with toppings. The word pitta can in turn be traced to either Ancient Greek πικτή (pikte), \"fermented pastry\", which in Latin became \"picta\", or Ancient Greek πίσσα (pissa, Attic πίττα, pitta), \"pitch\",[13][14] or πήτεα (pḗtea), \"bran\" (πητίτης pētítēs, \"bran bread\").[15]\n",
        "    The Etymological Dictionary of the Italian Language explains it as coming from dialectal pinza \"clamp\", as in modern Italian pinze \"pliers, pincers, tongs, forceps\". Their origin is from Latin pinsere \"to pound, stamp\".[16]\n",
        "    The Lombardic word bizzo or pizzo meaning \"mouthful\" (related to the English words \"bit\" and \"bite\"), which was brought to Italy in the middle of the 6th century AD by the invading Lombards.[4][17] The shift b>p could be explained by the High German consonant shift, and it has been noted in this connection that in German the word Imbiss means \"snack\".\n",
        "\n",
        "History\n",
        "Main article: History of pizza\n",
        "A pizzaiolo in 1830\n",
        "Antica Pizzeria Port'Alba in Naples\n",
        "\n",
        "Foods similar to pizza have been made since the Neolithic Age.[18] Records of people adding other ingredients to bread to make it more flavorful can be found throughout ancient history. In the 6th century BC, the Persian soldiers of Achaemenid Empire during the rule King Darius I baked flatbreads with cheese and dates on top of their battle shields[19][20] and the ancient Greeks supplemented their bread with oils, herbs, and cheese.[21][22] An early reference to a pizza-like food occurs in the Aeneid, when Celaeno, queen of the Harpies, foretells that the Trojans would not find peace until they are forced by hunger to eat their tables (Book III). In Book VII, Aeneas and his men are served a meal that includes round cakes (like pita bread) topped with cooked vegetables. When they eat the bread, they realize that these are the \"tables\" prophesied by Celaeno.[23]\n",
        "\n",
        "Modern pizza evolved from similar flatbread dishes in Naples, Italy, in the 18th or early 19th century.[24] Prior to that time, flatbread was often topped with ingredients such as garlic, salt, lard, and cheese. It is uncertain when tomatoes were first added and there are many conflicting claims.[24] Until about 1830, pizza was sold from open-air stands and out of pizza bakeries.\n",
        "\n",
        "A popular contemporary legend holds that the archetypal pizza, pizza Margherita, was invented in 1889, when the Royal Palace of Capodimonte commissioned the Neapolitan pizzaiolo (pizza maker) Raffaele Esposito to create a pizza in honor of the visiting Queen Margherita. Of the three different pizzas he created, the Queen strongly preferred a pizza swathed in the colors of the Italian flag — red (tomato), green (basil), and white (mozzarella). Supposedly, this kind of pizza was then named after the Queen,[25] although later research cast doubt on this legend.[26] An official letter of recognition from the Queen's \"head of service\" remains on display in Esposito's shop, now called the Pizzeria Brandi.[27]\n",
        "\n",
        "Pizza was brought to the United States with Italian immigrants in the late nineteenth century[28] and first appeared in areas where Italian immigrants concentrated. The country's first pizzeria, Lombardi's, opened in 1905.[29] Following World War II, veterans returning from the Italian Campaign, who were introduced to Italy's native cuisine, proved a ready market for pizza in particular.[30]\n",
        "Preparation\n",
        "\n",
        "Pizza is sold fresh or frozen, and whole or as portion-size slices or pieces. Methods have been developed to overcome challenges such as preventing the sauce from combining with the dough and producing a crust that can be frozen and reheated without becoming rigid. There are frozen pizzas with raw ingredients and self-rising crusts.\n",
        "\n",
        "Another form of uncooked pizza is available from take and bake pizzerias. This pizza is assembled in the store, then sold to customers to bake in their own ovens. Some grocery stores sell fresh dough along with sauce and basic ingredients, to complete at home before baking in an oven.\n",
        "\n",
        "    Pizza preparation\n",
        "\n",
        "    A wrapped, mass-produced frozen pizza to be cooked at home\n",
        "\n",
        "    Pizza dough being kneaded. After this, it is typically left undisturbed and allowed time to proof.\n",
        "\n",
        "    Traditional pizza dough being tossed\n",
        "\n",
        "    Various toppings being placed on pan pizzas\n",
        "\n",
        "    An uncooked Neapolitan pizza on a metal peel, ready for the oven\n",
        "\n",
        "Cooking\n",
        "\n",
        "In restaurants, pizza can be baked in an oven with stone bricks above the heat source, an electric deck oven, a conveyor belt oven, or, in the case of more expensive restaurants, a wood or coal-fired brick oven. On deck ovens, pizza can be slid into the oven on a long paddle, called a peel, and baked directly on the hot bricks or baked on a screen (a round metal grate, typically aluminum). Prior to use, a peel may be sprinkled with cornmeal to allow pizza to easily slide onto and off of it.[31] When made at home, it can be baked on a pizza stone in a regular oven to reproduce the effect of a brick oven. Cooking directly in a metal oven results in too rapid heat transfer to the crust, burning it.[32] Aficionado home-chefs sometimes use a specialty wood-fired pizza oven, usually installed outdoors. Dome-shaped pizza ovens have been used for centuries,[33] which is one way to achieve true heat distribution in a wood-fired pizza oven. Another option is grilled pizza, in which the crust is baked directly on a barbecue grill. Greek pizza, like Chicago-style pizza, is baked in a pan rather than directly on the bricks of the pizza oven.\n",
        "\n",
        "When it comes to preparation, the dough and ingredients can be combined on any kind of table. With mass production of pizza, the process can be completely automated. Most restaurants still use standard and purpose-built pizza preparation tables. Pizzerias nowadays can even opt for hi tech pizza preparation tables that combine mass production elements with traditional techniques.[34]\n",
        "\n",
        "    Pizza cooking\n",
        "\n",
        "    Pizzas baking in a traditional wood-fired brick oven\n",
        "\n",
        "    A pizza baked in a wood-fired oven, being removed with a wooden peel\n",
        "\n",
        "    A cooked pizza served at a New York pizzeria\n",
        "\n",
        "Crust\n",
        "A pizza just removed from an oven, with a close-up view of the cornicione (the outer edge)\n",
        "\n",
        "The bottom of the pizza, called the \"crust\", may vary widely according to style, thin as in a typical hand-tossed Neapolitan pizza or thick as in a deep-dish Chicago-style. It is traditionally plain, but may also be seasoned with garlic or herbs, or stuffed with cheese. The outer edge of the pizza is sometimes referred to as the cornicione.[35] Pizza dough often contains sugar, both to help its yeast rise and enhance browning of the crust.[36]\n",
        "\n",
        "Dipping sauce specifically for pizza was invented by American pizza chain Papa John's Pizza in 1984 and has since become popular when eating pizza, especially the crust.[37]\n",
        "Cheese\n",
        "Main article: Pizza cheese\n",
        "A pizza quattro formaggi (Italian: [ˈkwattro forˈmaddʒi], \"four cheeses\") in London\n",
        "\n",
        "Mozzarella is commonly used on pizza, with the highest quality buffalo mozzarella produced in the surroundings of Naples.[38] Eventually, other cheeses were used well as pizza ingredients, particularly Italian cheeses including provolone, pecorino romano, ricotta, and scamorza. Less expensive processed cheeses or cheese analogues have been developed for mass-market pizzas to produce desirable qualities like browning, melting, stretchiness, consistent fat and moisture content, and stable shelf life. This quest to create the ideal and economical pizza cheese has involved many studies and experiments analyzing the impact of vegetable oil, manufacturing and culture processes, denatured whey proteins, and other changes in manufacture. In 1997, it was estimated that annual production of pizza cheese was 1 million metric tons (1,100,000 short tons) in the U.S. and 100,000 metric tons (110,000 short tons) in Europe.[39]\n",
        "Spinach pizza, Turin\n",
        "Varieties\n",
        "Main article: List of pizza varieties by country\n",
        "Italy\n",
        "\n",
        "Authentic Neapolitan pizza (pizza napoletana) is made with San Marzano tomatoes, grown on the volcanic plains south of Mount Vesuvius, and mozzarella di bufala Campana, made with milk from water buffalo raised in the marshlands of Campania and Lazio.[40] This mozzarella is protected with its own European protected designation of origin.[40] Other traditional pizzas include pizza alla marinara, which is topped with marinara sauce and is supposedly the most ancient tomato-topped pizza,[41] pizza capricciosa, which is prepared with mozzarella cheese, baked ham, mushroom, artichoke, and tomato,[42] and pizza pugliese, prepared with tomato, mozzarella, and onions.[43]\n",
        "\n",
        "A popular variant of pizza in Italy is Sicilian pizza (locally called sfincione or sfinciuni),[44][45] a thick-crust or deep-dish pizza originating during the 17th century in Sicily: it is essentially a focaccia that is typically topped with tomato sauce and other ingredients. Until the 1860s, sfincione was the type of pizza usually consumed in Sicily, especially in the Western portion of the island.[46] Other variations of pizzas are also found in other regions of Italy, for example pizza al padellino or pizza al tegamino, a small-sized, thick-crust, deep-dish pizza typically served in Turin, Piedmont.[47][48][49]\n",
        "United States\n",
        "Main article: Pizza in the United States\n",
        "\n",
        "13% of the United States population consumes pizza on any given day.[50] Pizza chains such as Domino's Pizza, Pizza Hut, and Papa John's, pizzas from take and bake pizzerias, and chilled or frozen pizzas from supermarkets make pizza readily available nationwide.\n",
        "Pizza banquet in the White House\n",
        "\n",
        "The first pizzeria in the U.S. was opened in New York City's Little Italy in 1905.[51] Common toppings for pizza in the United States include anchovies, ground beef, chicken, ham, mushrooms, olives, onions, peppers, pepperoni, pineapple, salami, sausage, spinach, steak, and tomatoes. Distinct regional types developed in the 20th century, including Buffalo,[52] California, Chicago, Detroit, Greek, New Haven, New York, and St. Louis styles.[53] These regional variations include deep-dish, stuffed, pockets, turnovers, rolled, and pizza-on-a-stick, each with seemingly limitless combinations of sauce and toppings.\n",
        "\n",
        "Another variation is grilled pizza, created by taking a fairly thin, round (more typically, irregularly shaped) sheet of yeasted pizza dough, placing it directly over the fire of a grill, and then turning it over once the bottom has baked and placing a thin layer of toppings on the baked side.[54] Toppings may be sliced thin to ensure that they heat through, and chunkier toppings such as sausage or peppers may be precooked before being placed on the pizza.[55] Garlic, herbs, or other ingredients are sometimes added to the pizza or the crust to maximize the flavor of the dish.[56]\n",
        "\n",
        "Grilled pizza was offered in the United States at the Al Forno restaurant in Providence, Rhode Island[57] by owners Johanne Killeen and George Germon in 1980.[citation needed] Although it was inspired by a misunderstanding that confused a wood-fired brick oven with a grill,[citation needed] grilled pizza did exist prior to 1980, both in Italy, and in Argentina where it is known as pizza a la parrilla.[58] It has become a popular cookout dish, and there are even some pizza restaurants that specialize in the style. The traditional style of grilled pizza employed at Al Forno restaurant uses a dough coated with olive oil,[57] strained tomato sauce, thin slices of fresh mozzarella, and a garnish made from shaved scallions, and is served uncut.[59] The final product can be likened to flatbread with pizza toppings.[57] Another Providence establishment, Bob & Timmy's Grilled Pizza, was featured in a Providence-themed episode of the Travel Channel's Man v. Food Nation in 2011.[60]\n",
        "Argentina\n",
        "\n",
        "Argentina, and more specifically Buenos Aires, received a massive Italian immigration at the turn of the 19th century. Immigrants from Naples and Genoa opened the first pizza bars, though over time Spanish residents came to own the majority of the pizza businesses.\n",
        "\n",
        "Standard Argentine pizza has a thicker crust, called \"media masa\" (half dough) than traditional Italian style pizza and includes more cheese. Argentine gastronomy tradition, served pizza with fainá, which is a Genovese chick pea-flour dough placed over the piece of pizza, and moscato wine. The most popular variety of pizza is called \"muzzarella\" (mozzarella), similar to Neapolitan pizza (bread, tomato sauce and cheese) but made with a thicker \"media masa\" crust, triple cheese and tomato sauce, usually also with olives. It can be found in nearly every corner of the country; Buenos Aires is considered the city with the most pizza bars by person of the world.[61] Other popular varieties include jam, tomato slices, red pepper and longaniza. Two Argentine-born varieties of pizza with onion, are also very popular: fugazza with cheese and fugazzetta. The former one consists in a regular pizza crust topped with cheese and onions; the later has the cheese between two pizza crusts, with onions on top.[62][63]\n",
        "Records\n",
        "Pizza-eating contest\n",
        "\n",
        "The world's largest pizza was prepared in Rome in December 2012, and measured 1,261 square meters (13,570 square feet). The pizza was named \"Ottavia\" in homage to the first Roman emperor Octavian Augustus, and was made with a gluten-free base.[64] The world's longest pizza was made in Fontana, California in 2017 and measured 1,930.39 meters (6,333 feet 3 1⁄2 inches).[65]\n",
        "\n",
        "The world's most expensive pizza listed by Guinness World Records is a commercially available thin-crust pizza at Maze restaurant in London, United Kingdom, which costs GB£100. The pizza is wood fire-baked, and is topped with onion puree, white truffle paste, fontina cheese, baby mozzarella, pancetta, cep mushrooms, freshly picked wild mizuna lettuce, and fresh shavings of a rare Italian white truffle.[66]\n",
        "\n",
        "There are several instances of more expensive pizzas, such as the GB£4,200 \"Pizza Royale 007\" at Haggis restaurant in Glasgow, Scotland, which is topped with caviar, lobster, and 24-carat gold dust, and the US$1,000 caviar pizza made by Nino's Bellissima pizzeria in New York City, New York.[67] However, these are not officially recognized by Guinness World Records. Additionally, a pizza was made by the restaurateur Domenico Crolla that included toppings such as sunblush-tomato sauce, Scottish smoked salmon, medallions of venison, edible gold, lobster marinated in cognac, and champagne-soaked caviar. The pizza was auctioned for charity in 2007, raising GB£2,150.[68]\n",
        "\n",
        "In 2017, the world pizza market was $128 billion, and in the US it was $44 billion spread over 76,000 pizzerias.[69] Overall, 13% of the U.S. population aged 2 years and over consumed pizza on any given day.[70] A Technomic study concluded that 83% of consumers eat pizza at least once per month. According to PMQ in 2018 60.47% of respondents reported an increase in sales over the previous year. [71]\n",
        "Health concerns\n",
        "\n",
        "Some mass-produced pizzas by fast food chains have been criticized as having an unhealthy balance of ingredients. Pizza can be high in salt, fat, and food energy. The USDA reports an average sodium content of 5,101 mg per 36 cm (14 in) pizza in fast food chains.[72] There are concerns about negative health effects.[73] Food chains have come under criticism at various times for the high salt content of some of their meals.[74]\n",
        "\n",
        "Frequent pizza eaters in Italy have been found to have a relatively low incidence of cardiovascular disease[75] and digestive tract cancers[76] relative to infrequent pizza eaters, although the nature of the association between pizza and such perceived benefits is unclear. Pizza consumption in Italy might only indicate adherence to traditional Mediterranean dietary patterns, which have been shown to have various health benefits.[76]\n",
        "\n",
        "Some attribute the apparent health benefits of pizza to the lycopene content in pizza sauce,[77] which research indicates likely plays a role in protecting against cardiovascular disease and various cancers.[78]\n",
        "National Pizza Month\n",
        "See also: National Pizza Month\n",
        "\n",
        "National Pizza Month is an annual observance that occurs for the month of October in the United States and some areas of Canada.[79][80][81][82] This observance began in October 1984, and was created by Gerry Durnell, the publisher of Pizza Today magazine.[82] During this time, some people observe National Pizza Month by consuming various types of pizzas or pizza slices, or going to various pizzerias.[79]\n",
        "Similar dishes\n",
        "\n",
        "    Calzone and stromboli are similar dishes that are often made of pizza dough folded (calzone) or rolled (stromboli) around a filling.\n",
        "    Panzerotti are similar to calzones, but fried rather than baked.\n",
        "    \"Farinata\" or \"cecina\".[83] A Ligurian (farinata) and Tuscan (cecina) regional dish made from chickpea flour, water, salt, and olive oil. Also called socca in the Provence region of France. Often baked in a brick oven, and typically weighed and sold by the slice.\n",
        "    The Alsatian Flammekueche[84] (Standard German: Flammkuchen, French: Tarte flambée) is a thin disc of dough covered in crème fraîche, onions, and bacon.\n",
        "    Garlic fingers is an Atlantic Canadian dish, similar to a pizza in shape and size, and made with similar dough. It is garnished with melted butter, garlic, cheese, and sometimes bacon.\n",
        "    The Anatolian Lahmajoun (Arabic: laḥm bi'ajīn; Armenian: lahmajoun; also Armenian pizza or Turkish pizza) is a meat-topped dough round. The base is very thin, and the layer of meat often includes chopped vegetables.[85]\n",
        "    The Levantine Manakish (Arabic: ma'ujnāt) and Sfiha (Arabic: laḥm bi'ajīn; also Arab pizza) are dishes similar to pizza.\n",
        "    The Macedonian Pastrmajlija is a bread pie made from dough and meat. It is usually oval-shaped with chopped meat on top of it.\n",
        "    The Provençal Pissaladière is similar to an Italian pizza, with a slightly thicker crust and a topping of cooked onions, anchovies, and olives.\n",
        "    Pizza bagel is a bagel with toppings similar to that of traditional pizzas.\n",
        "    Pizza bread is a type of sandwich that is often served open-faced which consists of bread, tomato sauce, cheese,[86] and various toppings. Homemade versions may be prepared.\n",
        "    Pizza sticks may be prepared with pizza dough and pizza ingredients, in which the dough is shaped into stick forms, sauce and toppings are added, and it is then baked.[87] Bread dough may also be used in their preparation,[88] and some versions are fried.[89]\n",
        "    Pizza Rolls are a trade-marked commercial product.\n",
        "    Okonomiyaki, a Japanese dish cooked on a hotplate, is often referred to as \"Japanese pizza\".[90]\n",
        "    \"Zanzibar pizza\" is a street food served in Stone Town, Zanzibar, Tanzania. It uses a dough much thinner than pizza dough, almost like filo dough, filled with minced beef, onions, and an egg, similar to Moroccan bestila.[91]\n",
        "    Panizza is half a stick of bread (often baguette), topped with the usual pizza ingredients, baked in an oven.\"\"\"\n",
        "\n",
        "    "
      ],
      "execution_count": 15,
      "outputs": [
        {
          "output_type": "stream",
          "text": [
            "(15076, 154796)\n",
            "81545\n",
            "81677\n",
            "3\n"
          ],
          "name": "stdout"
        }
      ]
    },
    {
      "cell_type": "code",
      "metadata": {
        "id": "hvEttHmBy5cs",
        "outputId": "0e9becae-8585-4a25-b8d2-133c8303eaf4",
        "colab": {
          "base_uri": "https://localhost:8080/",
          "height": 54
        }
      },
      "source": [
        "from sklearn.feature_extraction.text import TfidfVectorizer\n",
        "\n",
        "tf_idf_vectorizer = TfidfVectorizer()\n",
        "vectors_train_idf = tf_idf_vectorizer.fit_transform(X_train)\n",
        "# what does fit does?\n",
        "vectors_test_idf = tf_idf_vectorizer.transform(X_test)\n",
        "print(X_train[0:1])"
      ],
      "execution_count": 16,
      "outputs": [
        {
          "output_type": "stream",
          "text": [
            "['From: gthomas@fraser.sfu.ca (Guy Thomas)\\nSubject: Re: What is going on?...\\nOrganization: Simon Fraser University, Burnaby, B.C., Canada\\nDistribution: inet\\nLines: 13\\n\\nzrepachol@cc.curtin.edu.au (Paul Repacholi) writes:\\n\\n>In article <1993Apr16.055100.1@cc.curtin.edu.au>, zrepachol@cc.curtin.edu.au (Paul Repacholi) writes:\\n>...\\n>> If you can\\'t be bothered reading, get the video \"Manufacturing Consent\".\\n>> \\n\\n>In reply to mail queries; I don\\'t know if a video is available yet. I asked\\n>about a month ao and was told RSN.\\n\\nYes it is. From the National Film Board of Canada.\\nGuy\\ngthomas@native-ed.bc.ca\\n']\n"
          ],
          "name": "stdout"
        }
      ]
    },
    {
      "cell_type": "code",
      "metadata": {
        "id": "UhbIA0EWy5cx",
        "outputId": "037ea6c1-0cdf-4d3b-f788-86e9daa186ab",
        "colab": {
          "base_uri": "https://localhost:8080/",
          "height": 920
        }
      },
      "source": [
        "print(vectors_train_idf.shape)\n",
        "print(vectors_train_idf)"
      ],
      "execution_count": 18,
      "outputs": [
        {
          "output_type": "stream",
          "text": [
            "(15076, 154796)\n",
            "  (0, 38678)\t0.09743627007355346\n",
            "  (0, 60200)\t0.08134810895262083\n",
            "  (0, 102513)\t0.10776063146712032\n",
            "  (0, 106298)\t0.01975736775818953\n",
            "  (0, 40944)\t0.07846443659724535\n",
            "  (0, 66011)\t0.10695078686589109\n",
            "  (0, 102490)\t0.07028718420195183\n",
            "  (0, 81794)\t0.023302065166588493\n",
            "  (0, 152236)\t0.06315655187420148\n",
            "  (0, 122815)\t0.1466441653019278\n",
            "  (0, 137273)\t0.07195361828068281\n",
            "  (0, 146461)\t0.03290338632023798\n",
            "  (0, 33880)\t0.02061320849628264\n",
            "  (0, 34465)\t0.131893963942301\n",
            "  (0, 99398)\t0.08560018362466629\n",
            "  (0, 30695)\t0.03447984118064394\n",
            "  (0, 35803)\t0.07582497370011765\n",
            "  (0, 152251)\t0.06317254500306269\n",
            "  (0, 36807)\t0.06374176730019894\n",
            "  (0, 87077)\t0.038785069042883244\n",
            "  (0, 57940)\t0.03876536945999458\n",
            "  (0, 117015)\t0.131893963942301\n",
            "  (0, 94007)\t0.05417772410307406\n",
            "  (0, 137169)\t0.019335694275180726\n",
            "  (0, 120176)\t0.045486595990818994\n",
            "  :\t:\n",
            "  (15075, 33278)\t0.02535556270706332\n",
            "  (15075, 84595)\t0.022239721005370822\n",
            "  (15075, 138645)\t0.03534713104963841\n",
            "  (15075, 136258)\t0.031153025661467187\n",
            "  (15075, 139250)\t0.02911079848053101\n",
            "  (15075, 136086)\t0.03936336613594236\n",
            "  (15075, 136169)\t0.01984449546940314\n",
            "  (15075, 35183)\t0.05097163951815967\n",
            "  (15075, 106298)\t0.0467074938074885\n",
            "  (15075, 81794)\t0.06885918950532936\n",
            "  (15075, 146461)\t0.01944634947842295\n",
            "  (15075, 33880)\t0.07309612191078761\n",
            "  (15075, 57940)\t0.022910861357621694\n",
            "  (15075, 137169)\t0.022855317359954143\n",
            "  (15075, 135939)\t0.08805757756425973\n",
            "  (15075, 38821)\t0.032457643796337136\n",
            "  (15075, 45158)\t0.018511310040293556\n",
            "  (15075, 78354)\t0.017115658301213033\n",
            "  (15075, 79307)\t0.04814106845612118\n",
            "  (15075, 148769)\t0.01716879552539574\n",
            "  (15075, 90460)\t0.01031874203316358\n",
            "  (15075, 106871)\t0.015361993075540441\n",
            "  (15075, 81545)\t0.11786114667421808\n",
            "  (15075, 132192)\t0.010288672162861175\n",
            "  (15075, 67905)\t0.02057734432572235\n"
          ],
          "name": "stdout"
        }
      ]
    },
    {
      "cell_type": "code",
      "metadata": {
        "id": "W3-7AWYey5c3"
      },
      "source": [
        "from sklearn.preprocessing import Normalizer\n",
        "\n",
        "normalizer_train = Normalizer().fit(X=vectors_train)\n",
        "vectors_train_normalized = normalizer_train.transform(vectors_train)\n",
        "vectors_test_normalized = normalizer_train.transform(vectors_test)"
      ],
      "execution_count": 20,
      "outputs": []
    },
    {
      "cell_type": "code",
      "metadata": {
        "id": "jxif9C3my5c7"
      },
      "source": [
        "## Now we instantiate the classifier. Remember this can be any classifier, even the one you make.\n",
        "from sklearn.linear_model import LogisticRegression\n",
        "\n",
        "clf = LogisticRegression()"
      ],
      "execution_count": 21,
      "outputs": []
    },
    {
      "cell_type": "code",
      "metadata": {
        "id": "jvqyFeOpy5dL",
        "outputId": "2528af91-4133-48be-8748-00f0fb5aadc4",
        "colab": {
          "base_uri": "https://localhost:8080/",
          "height": 243
        }
      },
      "source": [
        "## Scikit Learn API is very simple and straightforward, which contains the basic commands:\n",
        "## `fit` to learn your parameters\n",
        "clf.fit(vectors_train_normalized, y_train)"
      ],
      "execution_count": 22,
      "outputs": [
        {
          "output_type": "stream",
          "text": [
            "/usr/local/lib/python3.6/dist-packages/sklearn/linear_model/_logistic.py:940: ConvergenceWarning: lbfgs failed to converge (status=1):\n",
            "STOP: TOTAL NO. of ITERATIONS REACHED LIMIT.\n",
            "\n",
            "Increase the number of iterations (max_iter) or scale the data as shown in:\n",
            "    https://scikit-learn.org/stable/modules/preprocessing.html\n",
            "Please also refer to the documentation for alternative solver options:\n",
            "    https://scikit-learn.org/stable/modules/linear_model.html#logistic-regression\n",
            "  extra_warning_msg=_LOGISTIC_SOLVER_CONVERGENCE_MSG)\n"
          ],
          "name": "stderr"
        },
        {
          "output_type": "execute_result",
          "data": {
            "text/plain": [
              "LogisticRegression(C=1.0, class_weight=None, dual=False, fit_intercept=True,\n",
              "                   intercept_scaling=1, l1_ratio=None, max_iter=100,\n",
              "                   multi_class='auto', n_jobs=None, penalty='l2',\n",
              "                   random_state=None, solver='lbfgs', tol=0.0001, verbose=0,\n",
              "                   warm_start=False)"
            ]
          },
          "metadata": {
            "tags": []
          },
          "execution_count": 22
        }
      ]
    },
    {
      "cell_type": "code",
      "metadata": {
        "id": "j9N0dW68y5dR",
        "outputId": "43ae1ade-4a87-40fa-efda-bf7790ffbcb6",
        "colab": {
          "base_uri": "https://localhost:8080/",
          "height": 920
        }
      },
      "source": [
        "## We get the predicted class\n",
        "print(vectors_test_normalized)\n",
        "y_pred = clf.predict(vectors_test_normalized)\n",
        "## So now we see we have a set of predictions. \n",
        "y_pred"
      ],
      "execution_count": 23,
      "outputs": [
        {
          "output_type": "stream",
          "text": [
            "  (0, 0)\t0.030358837035945812\n",
            "  (0, 471)\t0.030358837035945812\n",
            "  (0, 677)\t0.030358837035945812\n",
            "  (0, 1252)\t0.030358837035945812\n",
            "  (0, 1514)\t0.030358837035945812\n",
            "  (0, 3156)\t0.030358837035945812\n",
            "  (0, 4076)\t0.030358837035945812\n",
            "  (0, 4501)\t0.030358837035945812\n",
            "  (0, 7285)\t0.060717674071891624\n",
            "  (0, 12119)\t0.030358837035945812\n",
            "  (0, 16134)\t0.030358837035945812\n",
            "  (0, 18226)\t0.030358837035945812\n",
            "  (0, 18602)\t0.030358837035945812\n",
            "  (0, 30695)\t0.09107651110783745\n",
            "  (0, 30699)\t0.030358837035945812\n",
            "  (0, 30873)\t0.030358837035945812\n",
            "  (0, 30937)\t0.030358837035945812\n",
            "  (0, 33068)\t0.030358837035945812\n",
            "  (0, 33237)\t0.030358837035945812\n",
            "  (0, 33278)\t0.030358837035945812\n",
            "  (0, 33394)\t0.030358837035945812\n",
            "  (0, 33735)\t0.060717674071891624\n",
            "  (0, 33875)\t0.030358837035945812\n",
            "  (0, 33880)\t0.2732295333235123\n",
            "  (0, 34424)\t0.030358837035945812\n",
            "  :\t:\n",
            "  (3769, 120176)\t0.04499212706658475\n",
            "  (3769, 120976)\t0.04499212706658475\n",
            "  (3769, 125848)\t0.04499212706658475\n",
            "  (3769, 127004)\t0.04499212706658475\n",
            "  (3769, 128999)\t0.04499212706658475\n",
            "  (3769, 131055)\t0.04499212706658475\n",
            "  (3769, 132192)\t0.04499212706658475\n",
            "  (3769, 132721)\t0.04499212706658475\n",
            "  (3769, 134508)\t0.0899842541331695\n",
            "  (3769, 134675)\t0.04499212706658475\n",
            "  (3769, 135939)\t0.3149448894660933\n",
            "  (3769, 136086)\t0.0899842541331695\n",
            "  (3769, 137169)\t0.13497638119975425\n",
            "  (3769, 137404)\t0.04499212706658475\n",
            "  (3769, 141362)\t0.04499212706658475\n",
            "  (3769, 141382)\t0.04499212706658475\n",
            "  (3769, 141970)\t0.13497638119975425\n",
            "  (3769, 142519)\t0.04499212706658475\n",
            "  (3769, 146262)\t0.13497638119975425\n",
            "  (3769, 146358)\t0.04499212706658475\n",
            "  (3769, 147451)\t0.04499212706658475\n",
            "  (3769, 148608)\t0.04499212706658475\n",
            "  (3769, 148769)\t0.0899842541331695\n",
            "  (3769, 152651)\t0.04499212706658475\n",
            "  (3769, 153738)\t0.04499212706658475\n"
          ],
          "name": "stdout"
        },
        {
          "output_type": "execute_result",
          "data": {
            "text/plain": [
              "array([15,  1, 19, ...,  8, 15, 19])"
            ]
          },
          "metadata": {
            "tags": []
          },
          "execution_count": 23
        }
      ]
    },
    {
      "cell_type": "code",
      "metadata": {
        "id": "HYmHZ-rTy5dV"
      },
      "source": [
        "from sklearn import metrics"
      ],
      "execution_count": 25,
      "outputs": []
    },
    {
      "cell_type": "code",
      "metadata": {
        "id": "QLtpoTUCuAk6"
      },
      "source": [
        "metrics.accuracy_score(y_test, y_pred)"
      ],
      "execution_count": null,
      "outputs": []
    },
    {
      "cell_type": "code",
      "metadata": {
        "id": "yWsflETwy5df"
      },
      "source": [
        "metrics.precision_score(y_test, y_pred, average='macro')"
      ],
      "execution_count": null,
      "outputs": []
    },
    {
      "cell_type": "code",
      "metadata": {
        "id": "YMCkGh6_y5dj"
      },
      "source": [
        "metrics.f1_score(y_test, y_pred, average='macro')"
      ],
      "execution_count": null,
      "outputs": []
    },
    {
      "cell_type": "code",
      "metadata": {
        "id": "UKf3L8Wfy5dm"
      },
      "source": [
        "metrics.recall_score(y_test, y_pred, average='macro')\n"
      ],
      "execution_count": null,
      "outputs": []
    },
    {
      "cell_type": "code",
      "metadata": {
        "id": "2fYrfP3Wy5dq",
        "outputId": "e2ffa104-c07f-4afc-c182-29ac043c391a",
        "colab": {
          "base_uri": "https://localhost:8080/",
          "height": 486
        }
      },
      "source": [
        "## You can show all of this in a single call\n",
        "print(metrics.classification_report(y_test, y_pred))"
      ],
      "execution_count": 26,
      "outputs": [
        {
          "output_type": "stream",
          "text": [
            "              precision    recall  f1-score   support\n",
            "\n",
            "           0       0.84      0.78      0.81       165\n",
            "           1       0.74      0.75      0.75       215\n",
            "           2       0.82      0.74      0.78       200\n",
            "           3       0.79      0.77      0.78       208\n",
            "           4       0.80      0.83      0.82       182\n",
            "           5       0.82      0.84      0.83       206\n",
            "           6       0.77      0.83      0.80       199\n",
            "           7       0.80      0.89      0.84       191\n",
            "           8       0.86      0.85      0.86       188\n",
            "           9       0.88      0.91      0.90       218\n",
            "          10       0.93      0.90      0.91       207\n",
            "          11       0.91      0.87      0.89       179\n",
            "          12       0.78      0.80      0.79       202\n",
            "          13       0.76      0.84      0.80       193\n",
            "          14       0.92      0.91      0.91       203\n",
            "          15       0.78      0.92      0.84       204\n",
            "          16       0.80      0.87      0.83       178\n",
            "          17       0.86      0.91      0.89       176\n",
            "          18       0.89      0.65      0.75       142\n",
            "          19       0.85      0.46      0.60       114\n",
            "\n",
            "    accuracy                           0.83      3770\n",
            "   macro avg       0.83      0.82      0.82      3770\n",
            "weighted avg       0.83      0.83      0.82      3770\n",
            "\n"
          ],
          "name": "stdout"
        }
      ]
    },
    {
      "cell_type": "markdown",
      "metadata": {
        "id": "EYUK7kLnouXo"
      },
      "source": [
        "this is a bad movie, not good.\n",
        "\n",
        "this is a good movie, not bad.\n",
        "\n",
        "\n",
        
        "stop words\n",
        "\n",
        "n-grams  \n",
        "\n",
        "hidden markov machines\n",
        "\n",
        "RNNs LSTMs \n",
        "\n"
      ]
    }
  ]
}